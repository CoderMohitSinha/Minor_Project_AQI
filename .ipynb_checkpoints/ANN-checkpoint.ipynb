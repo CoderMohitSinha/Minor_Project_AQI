{
 "cells": [
  {
   "cell_type": "code",
   "execution_count": 33,
   "metadata": {},
   "outputs": [],
   "source": [
    "import pandas as pd\n",
    "import numpy as np\n",
    "import matplotlib.pyplot as plt\n",
    "import seaborn as sns"
   ]
  },
  {
   "cell_type": "code",
   "execution_count": 34,
   "metadata": {},
   "outputs": [],
   "source": [
    "df=pd.read_csv('C:/Users/mohit/Documents/Minor_Project/code/Data_Downloading/Data/Real-Data/Real_Combine.csv')"
   ]
  },
  {
   "cell_type": "code",
   "execution_count": 35,
   "metadata": {},
   "outputs": [
    {
     "data": {
      "text/html": [
       "<div>\n",
       "<style scoped>\n",
       "    .dataframe tbody tr th:only-of-type {\n",
       "        vertical-align: middle;\n",
       "    }\n",
       "\n",
       "    .dataframe tbody tr th {\n",
       "        vertical-align: top;\n",
       "    }\n",
       "\n",
       "    .dataframe thead th {\n",
       "        text-align: right;\n",
       "    }\n",
       "</style>\n",
       "<table border=\"1\" class=\"dataframe\">\n",
       "  <thead>\n",
       "    <tr style=\"text-align: right;\">\n",
       "      <th></th>\n",
       "      <th>From Date</th>\n",
       "      <th>To Date</th>\n",
       "      <th>AT</th>\n",
       "      <th>BP</th>\n",
       "      <th>NO</th>\n",
       "      <th>NO2</th>\n",
       "      <th>NOx</th>\n",
       "      <th>Ozone</th>\n",
       "      <th>PM10</th>\n",
       "      <th>RH</th>\n",
       "      <th>SO2</th>\n",
       "      <th>SR</th>\n",
       "      <th>PM2.5</th>\n",
       "    </tr>\n",
       "  </thead>\n",
       "  <tbody>\n",
       "    <tr>\n",
       "      <th>0</th>\n",
       "      <td>01-01-2015 00:00</td>\n",
       "      <td>01-01-2015 08:00</td>\n",
       "      <td>NaN</td>\n",
       "      <td>NaN</td>\n",
       "      <td>NaN</td>\n",
       "      <td>NaN</td>\n",
       "      <td>NaN</td>\n",
       "      <td>NaN</td>\n",
       "      <td>NaN</td>\n",
       "      <td>NaN</td>\n",
       "      <td>NaN</td>\n",
       "      <td>NaN</td>\n",
       "      <td>NaN</td>\n",
       "    </tr>\n",
       "    <tr>\n",
       "      <th>1</th>\n",
       "      <td>01-01-2015 08:00</td>\n",
       "      <td>01-01-2015 16:00</td>\n",
       "      <td>NaN</td>\n",
       "      <td>NaN</td>\n",
       "      <td>NaN</td>\n",
       "      <td>NaN</td>\n",
       "      <td>NaN</td>\n",
       "      <td>NaN</td>\n",
       "      <td>NaN</td>\n",
       "      <td>NaN</td>\n",
       "      <td>NaN</td>\n",
       "      <td>NaN</td>\n",
       "      <td>NaN</td>\n",
       "    </tr>\n",
       "    <tr>\n",
       "      <th>2</th>\n",
       "      <td>01-01-2015 16:00</td>\n",
       "      <td>02-01-2015 00:00</td>\n",
       "      <td>NaN</td>\n",
       "      <td>NaN</td>\n",
       "      <td>NaN</td>\n",
       "      <td>NaN</td>\n",
       "      <td>NaN</td>\n",
       "      <td>NaN</td>\n",
       "      <td>NaN</td>\n",
       "      <td>NaN</td>\n",
       "      <td>NaN</td>\n",
       "      <td>NaN</td>\n",
       "      <td>NaN</td>\n",
       "    </tr>\n",
       "    <tr>\n",
       "      <th>3</th>\n",
       "      <td>02-01-2015 00:00</td>\n",
       "      <td>02-01-2015 08:00</td>\n",
       "      <td>NaN</td>\n",
       "      <td>NaN</td>\n",
       "      <td>NaN</td>\n",
       "      <td>NaN</td>\n",
       "      <td>NaN</td>\n",
       "      <td>NaN</td>\n",
       "      <td>NaN</td>\n",
       "      <td>NaN</td>\n",
       "      <td>NaN</td>\n",
       "      <td>NaN</td>\n",
       "      <td>NaN</td>\n",
       "    </tr>\n",
       "    <tr>\n",
       "      <th>4</th>\n",
       "      <td>02-01-2015 08:00</td>\n",
       "      <td>02-01-2015 16:00</td>\n",
       "      <td>NaN</td>\n",
       "      <td>NaN</td>\n",
       "      <td>NaN</td>\n",
       "      <td>NaN</td>\n",
       "      <td>NaN</td>\n",
       "      <td>NaN</td>\n",
       "      <td>NaN</td>\n",
       "      <td>NaN</td>\n",
       "      <td>NaN</td>\n",
       "      <td>NaN</td>\n",
       "      <td>NaN</td>\n",
       "    </tr>\n",
       "  </tbody>\n",
       "</table>\n",
       "</div>"
      ],
      "text/plain": [
       "          From Date           To Date  AT  BP  NO  NO2  NOx  Ozone  PM10  RH  \\\n",
       "0  01-01-2015 00:00  01-01-2015 08:00 NaN NaN NaN  NaN  NaN    NaN   NaN NaN   \n",
       "1  01-01-2015 08:00  01-01-2015 16:00 NaN NaN NaN  NaN  NaN    NaN   NaN NaN   \n",
       "2  01-01-2015 16:00  02-01-2015 00:00 NaN NaN NaN  NaN  NaN    NaN   NaN NaN   \n",
       "3  02-01-2015 00:00  02-01-2015 08:00 NaN NaN NaN  NaN  NaN    NaN   NaN NaN   \n",
       "4  02-01-2015 08:00  02-01-2015 16:00 NaN NaN NaN  NaN  NaN    NaN   NaN NaN   \n",
       "\n",
       "   SO2  SR  PM2.5  \n",
       "0  NaN NaN    NaN  \n",
       "1  NaN NaN    NaN  \n",
       "2  NaN NaN    NaN  \n",
       "3  NaN NaN    NaN  \n",
       "4  NaN NaN    NaN  "
      ]
     },
     "execution_count": 35,
     "metadata": {},
     "output_type": "execute_result"
    }
   ],
   "source": [
    "df.head()"
   ]
  },
  {
   "cell_type": "code",
   "execution_count": 36,
   "metadata": {},
   "outputs": [
    {
     "data": {
      "text/plain": [
       "<matplotlib.axes._subplots.AxesSubplot at 0x27516cc0f48>"
      ]
     },
     "execution_count": 36,
     "metadata": {},
     "output_type": "execute_result"
    },
    {
     "data": {
      "image/png": "[encoded data removed]",
      "text/plain": [
       "<Figure size 432x288 with 2 Axes>"
      ]
     },
     "metadata": {
      "needs_background": "light"
     },
     "output_type": "display_data"
    }
   ],
   "source": [
    "## Check for null values\n",
    "sns.heatmap(df.isnull(),yticklabels=False,cmap='viridis')"
   ]
  },
  {
   "cell_type": "code",
   "execution_count": 37,
   "metadata": {},
   "outputs": [],
   "source": [
    "df=df.dropna()"
   ]
  },
  {
   "cell_type": "code",
   "execution_count": 38,
   "metadata": {},
   "outputs": [
    {
     "data": {
      "text/plain": [
       "<matplotlib.axes._subplots.AxesSubplot at 0x27516cc0f88>"
      ]
     },
     "execution_count": 38,
     "metadata": {},
     "output_type": "execute_result"
    },
    {
     "data": {
      "image/png": "[encoded data removed]",
      "text/plain": [
       "<Figure size 432x288 with 1 Axes>"
      ]
     },
     "metadata": {
      "needs_background": "light"
     },
     "output_type": "display_data"
    }
   ],
   "source": [
    "## Check for null values\n",
    "sns.heatmap(df.isnull(),yticklabels=False,cbar=False,cmap='viridis')"
   ]
  },
  {
   "cell_type": "code",
   "execution_count": 39,
   "metadata": {},
   "outputs": [],
   "source": [
    "X=df.iloc[:,2:-1] ## independent features\n",
    "y=df.iloc[:,-1] ## dependent features"
   ]
  },
  {
   "cell_type": "code",
   "execution_count": 40,
   "metadata": {},
   "outputs": [
    {
     "data": {
      "text/html": [
       "<div>\n",
       "<style scoped>\n",
       "    .dataframe tbody tr th:only-of-type {\n",
       "        vertical-align: middle;\n",
       "    }\n",
       "\n",
       "    .dataframe tbody tr th {\n",
       "        vertical-align: top;\n",
       "    }\n",
       "\n",
       "    .dataframe thead th {\n",
       "        text-align: right;\n",
       "    }\n",
       "</style>\n",
       "<table border=\"1\" class=\"dataframe\">\n",
       "  <thead>\n",
       "    <tr style=\"text-align: right;\">\n",
       "      <th></th>\n",
       "      <th>AT</th>\n",
       "      <th>BP</th>\n",
       "      <th>NO</th>\n",
       "      <th>NO2</th>\n",
       "      <th>NOx</th>\n",
       "      <th>Ozone</th>\n",
       "      <th>PM10</th>\n",
       "      <th>RH</th>\n",
       "      <th>SO2</th>\n",
       "      <th>SR</th>\n",
       "    </tr>\n",
       "  </thead>\n",
       "  <tbody>\n",
       "    <tr>\n",
       "      <th>295</th>\n",
       "      <td>False</td>\n",
       "      <td>False</td>\n",
       "      <td>False</td>\n",
       "      <td>False</td>\n",
       "      <td>False</td>\n",
       "      <td>False</td>\n",
       "      <td>False</td>\n",
       "      <td>False</td>\n",
       "      <td>False</td>\n",
       "      <td>False</td>\n",
       "    </tr>\n",
       "    <tr>\n",
       "      <th>296</th>\n",
       "      <td>False</td>\n",
       "      <td>False</td>\n",
       "      <td>False</td>\n",
       "      <td>False</td>\n",
       "      <td>False</td>\n",
       "      <td>False</td>\n",
       "      <td>False</td>\n",
       "      <td>False</td>\n",
       "      <td>False</td>\n",
       "      <td>False</td>\n",
       "    </tr>\n",
       "    <tr>\n",
       "      <th>297</th>\n",
       "      <td>False</td>\n",
       "      <td>False</td>\n",
       "      <td>False</td>\n",
       "      <td>False</td>\n",
       "      <td>False</td>\n",
       "      <td>False</td>\n",
       "      <td>False</td>\n",
       "      <td>False</td>\n",
       "      <td>False</td>\n",
       "      <td>False</td>\n",
       "    </tr>\n",
       "    <tr>\n",
       "      <th>298</th>\n",
       "      <td>False</td>\n",
       "      <td>False</td>\n",
       "      <td>False</td>\n",
       "      <td>False</td>\n",
       "      <td>False</td>\n",
       "      <td>False</td>\n",
       "      <td>False</td>\n",
       "      <td>False</td>\n",
       "      <td>False</td>\n",
       "      <td>False</td>\n",
       "    </tr>\n",
       "    <tr>\n",
       "      <th>299</th>\n",
       "      <td>False</td>\n",
       "      <td>False</td>\n",
       "      <td>False</td>\n",
       "      <td>False</td>\n",
       "      <td>False</td>\n",
       "      <td>False</td>\n",
       "      <td>False</td>\n",
       "      <td>False</td>\n",
       "      <td>False</td>\n",
       "      <td>False</td>\n",
       "    </tr>\n",
       "    <tr>\n",
       "      <th>...</th>\n",
       "      <td>...</td>\n",
       "      <td>...</td>\n",
       "      <td>...</td>\n",
       "      <td>...</td>\n",
       "      <td>...</td>\n",
       "      <td>...</td>\n",
       "      <td>...</td>\n",
       "      <td>...</td>\n",
       "      <td>...</td>\n",
       "      <td>...</td>\n",
       "    </tr>\n",
       "    <tr>\n",
       "      <th>5473</th>\n",
       "      <td>False</td>\n",
       "      <td>False</td>\n",
       "      <td>False</td>\n",
       "      <td>False</td>\n",
       "      <td>False</td>\n",
       "      <td>False</td>\n",
       "      <td>False</td>\n",
       "      <td>False</td>\n",
       "      <td>False</td>\n",
       "      <td>False</td>\n",
       "    </tr>\n",
       "    <tr>\n",
       "      <th>5474</th>\n",
       "      <td>False</td>\n",
       "      <td>False</td>\n",
       "      <td>False</td>\n",
       "      <td>False</td>\n",
       "      <td>False</td>\n",
       "      <td>False</td>\n",
       "      <td>False</td>\n",
       "      <td>False</td>\n",
       "      <td>False</td>\n",
       "      <td>False</td>\n",
       "    </tr>\n",
       "    <tr>\n",
       "      <th>5475</th>\n",
       "      <td>False</td>\n",
       "      <td>False</td>\n",
       "      <td>False</td>\n",
       "      <td>False</td>\n",
       "      <td>False</td>\n",
       "      <td>False</td>\n",
       "      <td>False</td>\n",
       "      <td>False</td>\n",
       "      <td>False</td>\n",
       "      <td>False</td>\n",
       "    </tr>\n",
       "    <tr>\n",
       "      <th>5476</th>\n",
       "      <td>False</td>\n",
       "      <td>False</td>\n",
       "      <td>False</td>\n",
       "      <td>False</td>\n",
       "      <td>False</td>\n",
       "      <td>False</td>\n",
       "      <td>False</td>\n",
       "      <td>False</td>\n",
       "      <td>False</td>\n",
       "      <td>False</td>\n",
       "    </tr>\n",
       "    <tr>\n",
       "      <th>5477</th>\n",
       "      <td>False</td>\n",
       "      <td>False</td>\n",
       "      <td>False</td>\n",
       "      <td>False</td>\n",
       "      <td>False</td>\n",
       "      <td>False</td>\n",
       "      <td>False</td>\n",
       "      <td>False</td>\n",
       "      <td>False</td>\n",
       "      <td>False</td>\n",
       "    </tr>\n",
       "  </tbody>\n",
       "</table>\n",
       "<p>3674 rows × 10 columns</p>\n",
       "</div>"
      ],
      "text/plain": [
       "         AT     BP     NO    NO2    NOx  Ozone   PM10     RH    SO2     SR\n",
       "295   False  False  False  False  False  False  False  False  False  False\n",
       "296   False  False  False  False  False  False  False  False  False  False\n",
       "297   False  False  False  False  False  False  False  False  False  False\n",
       "298   False  False  False  False  False  False  False  False  False  False\n",
       "299   False  False  False  False  False  False  False  False  False  False\n",
       "...     ...    ...    ...    ...    ...    ...    ...    ...    ...    ...\n",
       "5473  False  False  False  False  False  False  False  False  False  False\n",
       "5474  False  False  False  False  False  False  False  False  False  False\n",
       "5475  False  False  False  False  False  False  False  False  False  False\n",
       "5476  False  False  False  False  False  False  False  False  False  False\n",
       "5477  False  False  False  False  False  False  False  False  False  False\n",
       "\n",
       "[3674 rows x 10 columns]"
      ]
     },
     "execution_count": 40,
     "metadata": {},
     "output_type": "execute_result"
    }
   ],
   "source": [
    "## check null values\n",
    "X.isnull()"
   ]
  },
  {
   "cell_type": "code",
   "execution_count": null,
   "metadata": {},
   "outputs": [
    {
     "data": {
      "text/plain": [
       "<seaborn.axisgrid.PairGrid at 0x2751b154608>"
      ]
     },
     "execution_count": 41,
     "metadata": {},
     "output_type": "execute_result"
    }
   ],
   "source": [
    "sns.pairplot(df)"
   ]
  },
  {
   "cell_type": "code",
   "execution_count": 14,
   "metadata": {},
   "outputs": [
    {
     "data": {
      "text/html": [
       "<div>\n",
       "<style scoped>\n",
       "    .dataframe tbody tr th:only-of-type {\n",
       "        vertical-align: middle;\n",
       "    }\n",
       "\n",
       "    .dataframe tbody tr th {\n",
       "        vertical-align: top;\n",
       "    }\n",
       "\n",
       "    .dataframe thead th {\n",
       "        text-align: right;\n",
       "    }\n",
       "</style>\n",
       "<table border=\"1\" class=\"dataframe\">\n",
       "  <thead>\n",
       "    <tr style=\"text-align: right;\">\n",
       "      <th></th>\n",
       "      <th>AT</th>\n",
       "      <th>BP</th>\n",
       "      <th>NO</th>\n",
       "      <th>NO2</th>\n",
       "      <th>NOx</th>\n",
       "      <th>Ozone</th>\n",
       "      <th>PM10</th>\n",
       "      <th>RH</th>\n",
       "      <th>SO2</th>\n",
       "      <th>SR</th>\n",
       "      <th>PM2.5</th>\n",
       "    </tr>\n",
       "  </thead>\n",
       "  <tbody>\n",
       "    <tr>\n",
       "      <th>AT</th>\n",
       "      <td>1.000000</td>\n",
       "      <td>-0.022741</td>\n",
       "      <td>-0.438641</td>\n",
       "      <td>-0.270516</td>\n",
       "      <td>-0.382141</td>\n",
       "      <td>0.352277</td>\n",
       "      <td>-0.354580</td>\n",
       "      <td>-0.580696</td>\n",
       "      <td>-0.183103</td>\n",
       "      <td>0.482107</td>\n",
       "      <td>-0.536491</td>\n",
       "    </tr>\n",
       "    <tr>\n",
       "      <th>BP</th>\n",
       "      <td>-0.022741</td>\n",
       "      <td>1.000000</td>\n",
       "      <td>0.039386</td>\n",
       "      <td>-0.202227</td>\n",
       "      <td>-0.283421</td>\n",
       "      <td>-0.160705</td>\n",
       "      <td>-0.127384</td>\n",
       "      <td>0.186229</td>\n",
       "      <td>-0.430749</td>\n",
       "      <td>-0.057346</td>\n",
       "      <td>-0.093348</td>\n",
       "    </tr>\n",
       "    <tr>\n",
       "      <th>NO</th>\n",
       "      <td>-0.438641</td>\n",
       "      <td>0.039386</td>\n",
       "      <td>1.000000</td>\n",
       "      <td>0.502341</td>\n",
       "      <td>0.838743</td>\n",
       "      <td>-0.240060</td>\n",
       "      <td>0.485635</td>\n",
       "      <td>0.264761</td>\n",
       "      <td>0.143436</td>\n",
       "      <td>-0.394933</td>\n",
       "      <td>0.480181</td>\n",
       "    </tr>\n",
       "    <tr>\n",
       "      <th>NO2</th>\n",
       "      <td>-0.270516</td>\n",
       "      <td>-0.202227</td>\n",
       "      <td>0.502341</td>\n",
       "      <td>1.000000</td>\n",
       "      <td>0.664089</td>\n",
       "      <td>-0.085898</td>\n",
       "      <td>0.477003</td>\n",
       "      <td>-0.069044</td>\n",
       "      <td>0.297897</td>\n",
       "      <td>-0.316629</td>\n",
       "      <td>0.423003</td>\n",
       "    </tr>\n",
       "    <tr>\n",
       "      <th>NOx</th>\n",
       "      <td>-0.382141</td>\n",
       "      <td>-0.283421</td>\n",
       "      <td>0.838743</td>\n",
       "      <td>0.664089</td>\n",
       "      <td>1.000000</td>\n",
       "      <td>-0.210675</td>\n",
       "      <td>0.463150</td>\n",
       "      <td>0.207845</td>\n",
       "      <td>0.259373</td>\n",
       "      <td>-0.388620</td>\n",
       "      <td>0.457815</td>\n",
       "    </tr>\n",
       "    <tr>\n",
       "      <th>Ozone</th>\n",
       "      <td>0.352277</td>\n",
       "      <td>-0.160705</td>\n",
       "      <td>-0.240060</td>\n",
       "      <td>-0.085898</td>\n",
       "      <td>-0.210675</td>\n",
       "      <td>1.000000</td>\n",
       "      <td>0.102660</td>\n",
       "      <td>-0.613024</td>\n",
       "      <td>0.171958</td>\n",
       "      <td>0.630139</td>\n",
       "      <td>0.005366</td>\n",
       "    </tr>\n",
       "    <tr>\n",
       "      <th>PM10</th>\n",
       "      <td>-0.354580</td>\n",
       "      <td>-0.127384</td>\n",
       "      <td>0.485635</td>\n",
       "      <td>0.477003</td>\n",
       "      <td>0.463150</td>\n",
       "      <td>0.102660</td>\n",
       "      <td>1.000000</td>\n",
       "      <td>-0.127926</td>\n",
       "      <td>0.352524</td>\n",
       "      <td>-0.058747</td>\n",
       "      <td>0.848364</td>\n",
       "    </tr>\n",
       "    <tr>\n",
       "      <th>RH</th>\n",
       "      <td>-0.580696</td>\n",
       "      <td>0.186229</td>\n",
       "      <td>0.264761</td>\n",
       "      <td>-0.069044</td>\n",
       "      <td>0.207845</td>\n",
       "      <td>-0.613024</td>\n",
       "      <td>-0.127926</td>\n",
       "      <td>1.000000</td>\n",
       "      <td>-0.231833</td>\n",
       "      <td>-0.566778</td>\n",
       "      <td>0.125676</td>\n",
       "    </tr>\n",
       "    <tr>\n",
       "      <th>SO2</th>\n",
       "      <td>-0.183103</td>\n",
       "      <td>-0.430749</td>\n",
       "      <td>0.143436</td>\n",
       "      <td>0.297897</td>\n",
       "      <td>0.259373</td>\n",
       "      <td>0.171958</td>\n",
       "      <td>0.352524</td>\n",
       "      <td>-0.231833</td>\n",
       "      <td>1.000000</td>\n",
       "      <td>-0.018462</td>\n",
       "      <td>0.305956</td>\n",
       "    </tr>\n",
       "    <tr>\n",
       "      <th>SR</th>\n",
       "      <td>0.482107</td>\n",
       "      <td>-0.057346</td>\n",
       "      <td>-0.394933</td>\n",
       "      <td>-0.316629</td>\n",
       "      <td>-0.388620</td>\n",
       "      <td>0.630139</td>\n",
       "      <td>-0.058747</td>\n",
       "      <td>-0.566778</td>\n",
       "      <td>-0.018462</td>\n",
       "      <td>1.000000</td>\n",
       "      <td>-0.139410</td>\n",
       "    </tr>\n",
       "    <tr>\n",
       "      <th>PM2.5</th>\n",
       "      <td>-0.536491</td>\n",
       "      <td>-0.093348</td>\n",
       "      <td>0.480181</td>\n",
       "      <td>0.423003</td>\n",
       "      <td>0.457815</td>\n",
       "      <td>0.005366</td>\n",
       "      <td>0.848364</td>\n",
       "      <td>0.125676</td>\n",
       "      <td>0.305956</td>\n",
       "      <td>-0.139410</td>\n",
       "      <td>1.000000</td>\n",
       "    </tr>\n",
       "  </tbody>\n",
       "</table>\n",
       "</div>"
      ],
      "text/plain": [
       "             AT        BP        NO       NO2       NOx     Ozone      PM10  \\\n",
       "AT     1.000000 -0.022741 -0.438641 -0.270516 -0.382141  0.352277 -0.354580   \n",
       "BP    -0.022741  1.000000  0.039386 -0.202227 -0.283421 -0.160705 -0.127384   \n",
       "NO    -0.438641  0.039386  1.000000  0.502341  0.838743 -0.240060  0.485635   \n",
       "NO2   -0.270516 -0.202227  0.502341  1.000000  0.664089 -0.085898  0.477003   \n",
       "NOx   -0.382141 -0.283421  0.838743  0.664089  1.000000 -0.210675  0.463150   \n",
       "Ozone  0.352277 -0.160705 -0.240060 -0.085898 -0.210675  1.000000  0.102660   \n",
       "PM10  -0.354580 -0.127384  0.485635  0.477003  0.463150  0.102660  1.000000   \n",
       "RH    -0.580696  0.186229  0.264761 -0.069044  0.207845 -0.613024 -0.127926   \n",
       "SO2   -0.183103 -0.430749  0.143436  0.297897  0.259373  0.171958  0.352524   \n",
       "SR     0.482107 -0.057346 -0.394933 -0.316629 -0.388620  0.630139 -0.058747   \n",
       "PM2.5 -0.536491 -0.093348  0.480181  0.423003  0.457815  0.005366  0.848364   \n",
       "\n",
       "             RH       SO2        SR     PM2.5  \n",
       "AT    -0.580696 -0.183103  0.482107 -0.536491  \n",
       "BP     0.186229 -0.430749 -0.057346 -0.093348  \n",
       "NO     0.264761  0.143436 -0.394933  0.480181  \n",
       "NO2   -0.069044  0.297897 -0.316629  0.423003  \n",
       "NOx    0.207845  0.259373 -0.388620  0.457815  \n",
       "Ozone -0.613024  0.171958  0.630139  0.005366  \n",
       "PM10  -0.127926  0.352524 -0.058747  0.848364  \n",
       "RH     1.000000 -0.231833 -0.566778  0.125676  \n",
       "SO2   -0.231833  1.000000 -0.018462  0.305956  \n",
       "SR    -0.566778 -0.018462  1.000000 -0.139410  \n",
       "PM2.5  0.125676  0.305956 -0.139410  1.000000  "
      ]
     },
     "execution_count": 14,
     "metadata": {},
     "output_type": "execute_result"
    }
   ],
   "source": [
    "df.corr()"
   ]
  },
  {
   "cell_type": "markdown",
   "metadata": {},
   "source": [
    "\n",
    "### Correlation Matrix with Heatmap\n",
    "Correlation states how the features are related to each other or the target variable.\n",
    "\n",
    "Correlation can be positive (increase in one value of feature increases the value of the target variable) or negative (increase in one value of feature decreases the value of the target variable)\n",
    "\n",
    "Heatmap makes it easy to identify which features are most related to the target variable, we will plot heatmap of correlated features using the seaborn library."
   ]
  },
  {
   "cell_type": "code",
   "execution_count": 15,
   "metadata": {},
   "outputs": [
    {
     "data": {
      "image/png": "[encoded data removed]",
      "text/plain": [
       "<Figure size 1440x1440 with 2 Axes>"
      ]
     },
     "metadata": {
      "needs_background": "light"
     },
     "output_type": "display_data"
    }
   ],
   "source": [
    "import seaborn as sns\n",
    "#get correlations of each features in dataset\n",
    "corrmat = df.corr()\n",
    "top_corr_features = corrmat.index\n",
    "plt.figure(figsize=(20,20))\n",
    "#plot heat map\n",
    "g=sns.heatmap(df[top_corr_features].corr(),annot=True,cmap=\"RdYlGn\")"
   ]
  },
  {
   "cell_type": "code",
   "execution_count": 16,
   "metadata": {},
   "outputs": [
    {
     "data": {
      "text/plain": [
       "Index(['AT', 'BP', 'NO', 'NO2', 'NOx', 'Ozone', 'PM10', 'RH', 'SO2', 'SR',\n",
       "       'PM2.5'],\n",
       "      dtype='object')"
      ]
     },
     "execution_count": 16,
     "metadata": {},
     "output_type": "execute_result"
    }
   ],
   "source": [
    "corrmat.index"
   ]
  },
  {
   "cell_type": "markdown",
   "metadata": {},
   "source": [
    "### Feature Importance\n",
    "You can get the feature importance of each feature of your dataset by using the feature importance property of the model.\n",
    "\n",
    "Feature importance gives you a score for each feature of your data, the higher the score more important or relevant is the feature towards your output variable.\n",
    "\n",
    "Feature importance is an inbuilt class that comes with Tree Based Regressor, we will be using Extra Tree Regressor for extracting the top 10 features for the dataset."
   ]
  },
  {
   "cell_type": "code",
   "execution_count": 17,
   "metadata": {},
   "outputs": [
    {
     "data": {
      "text/plain": [
       "ExtraTreesRegressor(bootstrap=False, ccp_alpha=0.0, criterion='mse',\n",
       "                    max_depth=None, max_features='auto', max_leaf_nodes=None,\n",
       "                    max_samples=None, min_impurity_decrease=0.0,\n",
       "                    min_impurity_split=None, min_samples_leaf=1,\n",
       "                    min_samples_split=2, min_weight_fraction_leaf=0.0,\n",
       "                    n_estimators=100, n_jobs=None, oob_score=False,\n",
       "                    random_state=None, verbose=0, warm_start=False)"
      ]
     },
     "execution_count": 17,
     "metadata": {},
     "output_type": "execute_result"
    }
   ],
   "source": [
    "from sklearn.ensemble import ExtraTreesRegressor\n",
    "import matplotlib.pyplot as plt\n",
    "model = ExtraTreesRegressor()\n",
    "model.fit(X,y)"
   ]
  },
  {
   "cell_type": "code",
   "execution_count": 18,
   "metadata": {},
   "outputs": [
    {
     "data": {
      "text/html": [
       "<div>\n",
       "<style scoped>\n",
       "    .dataframe tbody tr th:only-of-type {\n",
       "        vertical-align: middle;\n",
       "    }\n",
       "\n",
       "    .dataframe tbody tr th {\n",
       "        vertical-align: top;\n",
       "    }\n",
       "\n",
       "    .dataframe thead th {\n",
       "        text-align: right;\n",
       "    }\n",
       "</style>\n",
       "<table border=\"1\" class=\"dataframe\">\n",
       "  <thead>\n",
       "    <tr style=\"text-align: right;\">\n",
       "      <th></th>\n",
       "      <th>AT</th>\n",
       "      <th>BP</th>\n",
       "      <th>NO</th>\n",
       "      <th>NO2</th>\n",
       "      <th>NOx</th>\n",
       "      <th>Ozone</th>\n",
       "      <th>PM10</th>\n",
       "      <th>RH</th>\n",
       "      <th>SO2</th>\n",
       "      <th>SR</th>\n",
       "    </tr>\n",
       "  </thead>\n",
       "  <tbody>\n",
       "    <tr>\n",
       "      <th>295</th>\n",
       "      <td>30.64</td>\n",
       "      <td>730.91</td>\n",
       "      <td>7.14</td>\n",
       "      <td>11.82</td>\n",
       "      <td>20.93</td>\n",
       "      <td>155.56</td>\n",
       "      <td>172.10</td>\n",
       "      <td>24.47</td>\n",
       "      <td>11.45</td>\n",
       "      <td>402.96</td>\n",
       "    </tr>\n",
       "    <tr>\n",
       "      <th>296</th>\n",
       "      <td>24.85</td>\n",
       "      <td>726.86</td>\n",
       "      <td>7.73</td>\n",
       "      <td>82.04</td>\n",
       "      <td>86.64</td>\n",
       "      <td>62.31</td>\n",
       "      <td>170.31</td>\n",
       "      <td>37.75</td>\n",
       "      <td>13.97</td>\n",
       "      <td>37.78</td>\n",
       "    </tr>\n",
       "    <tr>\n",
       "      <th>297</th>\n",
       "      <td>18.71</td>\n",
       "      <td>733.97</td>\n",
       "      <td>6.88</td>\n",
       "      <td>80.51</td>\n",
       "      <td>83.77</td>\n",
       "      <td>8.16</td>\n",
       "      <td>186.20</td>\n",
       "      <td>60.71</td>\n",
       "      <td>20.96</td>\n",
       "      <td>28.02</td>\n",
       "    </tr>\n",
       "    <tr>\n",
       "      <th>298</th>\n",
       "      <td>30.61</td>\n",
       "      <td>729.98</td>\n",
       "      <td>7.07</td>\n",
       "      <td>26.42</td>\n",
       "      <td>34.28</td>\n",
       "      <td>129.26</td>\n",
       "      <td>246.79</td>\n",
       "      <td>30.06</td>\n",
       "      <td>16.09</td>\n",
       "      <td>381.89</td>\n",
       "    </tr>\n",
       "    <tr>\n",
       "      <th>299</th>\n",
       "      <td>26.31</td>\n",
       "      <td>727.46</td>\n",
       "      <td>9.00</td>\n",
       "      <td>85.16</td>\n",
       "      <td>90.24</td>\n",
       "      <td>53.39</td>\n",
       "      <td>265.02</td>\n",
       "      <td>38.11</td>\n",
       "      <td>8.84</td>\n",
       "      <td>40.31</td>\n",
       "    </tr>\n",
       "  </tbody>\n",
       "</table>\n",
       "</div>"
      ],
      "text/plain": [
       "        AT      BP    NO    NO2    NOx   Ozone    PM10     RH    SO2      SR\n",
       "295  30.64  730.91  7.14  11.82  20.93  155.56  172.10  24.47  11.45  402.96\n",
       "296  24.85  726.86  7.73  82.04  86.64   62.31  170.31  37.75  13.97   37.78\n",
       "297  18.71  733.97  6.88  80.51  83.77    8.16  186.20  60.71  20.96   28.02\n",
       "298  30.61  729.98  7.07  26.42  34.28  129.26  246.79  30.06  16.09  381.89\n",
       "299  26.31  727.46  9.00  85.16  90.24   53.39  265.02  38.11   8.84   40.31"
      ]
     },
     "execution_count": 18,
     "metadata": {},
     "output_type": "execute_result"
    }
   ],
   "source": [
    "X.head()"
   ]
  },
  {
   "cell_type": "code",
   "execution_count": 19,
   "metadata": {},
   "outputs": [
    {
     "name": "stdout",
     "output_type": "stream",
     "text": [
      "[0.15233461 0.02834311 0.03775462 0.01986019 0.04400658 0.01746294\n",
      " 0.61163454 0.04501014 0.01618738 0.02740589]\n"
     ]
    }
   ],
   "source": [
    "print(model.feature_importances_)"
   ]
  },
  {
   "cell_type": "code",
   "execution_count": 20,
   "metadata": {},
   "outputs": [
    {
     "data": {
      "image/png": "[encoded data removed]",
      "text/plain": [
       "<Figure size 432x288 with 1 Axes>"
      ]
     },
     "metadata": {
      "needs_background": "light"
     },
     "output_type": "display_data"
    }
   ],
   "source": [
    "#plot graph of feature importances for better visualization\n",
    "feat_importances = pd.Series(model.feature_importances_, index=X.columns)\n",
    "feat_importances.nlargest(10).plot(kind='barh')\n",
    "plt.show()"
   ]
  },
  {
   "cell_type": "markdown",
   "metadata": {},
   "source": [
    "## ANN"
   ]
  },
  {
   "cell_type": "code",
   "execution_count": 21,
   "metadata": {},
   "outputs": [
    {
     "data": {
      "text/plain": [
       "<matplotlib.axes._subplots.AxesSubplot at 0x274bc5e7648>"
      ]
     },
     "execution_count": 21,
     "metadata": {},
     "output_type": "execute_result"
    },
    {
     "data": {
      "image/png": "[encoded data removed]",
      "text/plain": [
       "<Figure size 432x288 with 1 Axes>"
      ]
     },
     "metadata": {
      "needs_background": "light"
     },
     "output_type": "display_data"
    }
   ],
   "source": [
    "sns.distplot(y)"
   ]
  },
  {
   "cell_type": "markdown",
   "metadata": {},
   "source": [
    "### Train Test split"
   ]
  },
  {
   "cell_type": "code",
   "execution_count": 22,
   "metadata": {},
   "outputs": [],
   "source": [
    "from sklearn.model_selection import train_test_split\n",
    "X_train, X_test, y_train, y_test = train_test_split(X, y, test_size=0.2, random_state=0)"
   ]
  },
  {
   "cell_type": "code",
   "execution_count": 23,
   "metadata": {},
   "outputs": [
    {
     "name": "stderr",
     "output_type": "stream",
     "text": [
      "Using TensorFlow backend.\n",
      "C:\\ProgramData\\Anaconda3\\lib\\site-packages\\tensorflow\\python\\framework\\dtypes.py:516: FutureWarning: Passing (type, 1) or '1type' as a synonym of type is deprecated; in a future version of numpy, it will be understood as (type, (1,)) / '(1,)type'.\n",
      "  _np_qint8 = np.dtype([(\"qint8\", np.int8, 1)])\n",
      "C:\\ProgramData\\Anaconda3\\lib\\site-packages\\tensorflow\\python\\framework\\dtypes.py:517: FutureWarning: Passing (type, 1) or '1type' as a synonym of type is deprecated; in a future version of numpy, it will be understood as (type, (1,)) / '(1,)type'.\n",
      "  _np_quint8 = np.dtype([(\"quint8\", np.uint8, 1)])\n",
      "C:\\ProgramData\\Anaconda3\\lib\\site-packages\\tensorflow\\python\\framework\\dtypes.py:518: FutureWarning: Passing (type, 1) or '1type' as a synonym of type is deprecated; in a future version of numpy, it will be understood as (type, (1,)) / '(1,)type'.\n",
      "  _np_qint16 = np.dtype([(\"qint16\", np.int16, 1)])\n",
      "C:\\ProgramData\\Anaconda3\\lib\\site-packages\\tensorflow\\python\\framework\\dtypes.py:519: FutureWarning: Passing (type, 1) or '1type' as a synonym of type is deprecated; in a future version of numpy, it will be understood as (type, (1,)) / '(1,)type'.\n",
      "  _np_quint16 = np.dtype([(\"quint16\", np.uint16, 1)])\n",
      "C:\\ProgramData\\Anaconda3\\lib\\site-packages\\tensorflow\\python\\framework\\dtypes.py:520: FutureWarning: Passing (type, 1) or '1type' as a synonym of type is deprecated; in a future version of numpy, it will be understood as (type, (1,)) / '(1,)type'.\n",
      "  _np_qint32 = np.dtype([(\"qint32\", np.int32, 1)])\n",
      "C:\\ProgramData\\Anaconda3\\lib\\site-packages\\tensorflow\\python\\framework\\dtypes.py:525: FutureWarning: Passing (type, 1) or '1type' as a synonym of type is deprecated; in a future version of numpy, it will be understood as (type, (1,)) / '(1,)type'.\n",
      "  np_resource = np.dtype([(\"resource\", np.ubyte, 1)])\n",
      "C:\\ProgramData\\Anaconda3\\lib\\site-packages\\tensorboard\\compat\\tensorflow_stub\\dtypes.py:541: FutureWarning: Passing (type, 1) or '1type' as a synonym of type is deprecated; in a future version of numpy, it will be understood as (type, (1,)) / '(1,)type'.\n",
      "  _np_qint8 = np.dtype([(\"qint8\", np.int8, 1)])\n",
      "C:\\ProgramData\\Anaconda3\\lib\\site-packages\\tensorboard\\compat\\tensorflow_stub\\dtypes.py:542: FutureWarning: Passing (type, 1) or '1type' as a synonym of type is deprecated; in a future version of numpy, it will be understood as (type, (1,)) / '(1,)type'.\n",
      "  _np_quint8 = np.dtype([(\"quint8\", np.uint8, 1)])\n",
      "C:\\ProgramData\\Anaconda3\\lib\\site-packages\\tensorboard\\compat\\tensorflow_stub\\dtypes.py:543: FutureWarning: Passing (type, 1) or '1type' as a synonym of type is deprecated; in a future version of numpy, it will be understood as (type, (1,)) / '(1,)type'.\n",
      "  _np_qint16 = np.dtype([(\"qint16\", np.int16, 1)])\n",
      "C:\\ProgramData\\Anaconda3\\lib\\site-packages\\tensorboard\\compat\\tensorflow_stub\\dtypes.py:544: FutureWarning: Passing (type, 1) or '1type' as a synonym of type is deprecated; in a future version of numpy, it will be understood as (type, (1,)) / '(1,)type'.\n",
      "  _np_quint16 = np.dtype([(\"quint16\", np.uint16, 1)])\n",
      "C:\\ProgramData\\Anaconda3\\lib\\site-packages\\tensorboard\\compat\\tensorflow_stub\\dtypes.py:545: FutureWarning: Passing (type, 1) or '1type' as a synonym of type is deprecated; in a future version of numpy, it will be understood as (type, (1,)) / '(1,)type'.\n",
      "  _np_qint32 = np.dtype([(\"qint32\", np.int32, 1)])\n",
      "C:\\ProgramData\\Anaconda3\\lib\\site-packages\\tensorboard\\compat\\tensorflow_stub\\dtypes.py:550: FutureWarning: Passing (type, 1) or '1type' as a synonym of type is deprecated; in a future version of numpy, it will be understood as (type, (1,)) / '(1,)type'.\n",
      "  np_resource = np.dtype([(\"resource\", np.ubyte, 1)])\n"
     ]
    }
   ],
   "source": [
    "# Part 2 - Now let's make the ANN!\n",
    "\n",
    "# Importing the Keras libraries and packages\n",
    "import keras\n",
    "from keras.models import Sequential\n",
    "from keras.layers import Dense\n",
    "from keras.layers import LeakyReLU,PReLU,ELU\n",
    "from keras.layers import Dropout"
   ]
  },
  {
   "cell_type": "code",
   "execution_count": 24,
   "metadata": {},
   "outputs": [
    {
     "name": "stdout",
     "output_type": "stream",
     "text": [
      "Model: \"sequential_1\"\n",
      "_________________________________________________________________\n",
      "Layer (type)                 Output Shape              Param #   \n",
      "=================================================================\n",
      "dense_1 (Dense)              (None, 128)               1408      \n",
      "_________________________________________________________________\n",
      "dense_2 (Dense)              (None, 256)               33024     \n",
      "_________________________________________________________________\n",
      "dense_3 (Dense)              (None, 256)               65792     \n",
      "_________________________________________________________________\n",
      "dense_4 (Dense)              (None, 256)               65792     \n",
      "_________________________________________________________________\n",
      "dense_5 (Dense)              (None, 1)                 257       \n",
      "=================================================================\n",
      "Total params: 166,273\n",
      "Trainable params: 166,273\n",
      "Non-trainable params: 0\n",
      "_________________________________________________________________\n"
     ]
    },
    {
     "name": "stderr",
     "output_type": "stream",
     "text": [
      "C:\\ProgramData\\Anaconda3\\lib\\site-packages\\ipykernel_launcher.py:19: UserWarning: The `nb_epoch` argument in `fit` has been renamed `epochs`.\n"
     ]
    },
    {
     "name": "stdout",
     "output_type": "stream",
     "text": [
      "WARNING:tensorflow:From C:\\ProgramData\\Anaconda3\\lib\\site-packages\\keras\\backend\\tensorflow_backend.py:422: The name tf.global_variables is deprecated. Please use tf.compat.v1.global_variables instead.\n",
      "\n",
      "Train on 1969 samples, validate on 970 samples\n",
      "Epoch 1/100\n",
      "1969/1969 [==============================] - 6s 3ms/step - loss: 32.8422 - mean_absolute_error: 32.8422 - val_loss: 32.5108 - val_mean_absolute_error: 32.5109\n",
      "Epoch 2/100\n",
      "1969/1969 [==============================] - 3s 1ms/step - loss: 26.3910 - mean_absolute_error: 26.3910 - val_loss: 27.4966 - val_mean_absolute_error: 27.4966\n",
      "Epoch 3/100\n",
      "1969/1969 [==============================] - 2s 1ms/step - loss: 24.7332 - mean_absolute_error: 24.7332 - val_loss: 25.3111 - val_mean_absolute_error: 25.3112\n",
      "Epoch 4/100\n",
      "1969/1969 [==============================] - 3s 2ms/step - loss: 24.2254 - mean_absolute_error: 24.2254 - val_loss: 24.9367 - val_mean_absolute_error: 24.9367\n",
      "Epoch 5/100\n",
      "1969/1969 [==============================] - 4s 2ms/step - loss: 23.5400 - mean_absolute_error: 23.5400 - val_loss: 23.7131 - val_mean_absolute_error: 23.7131\n",
      "Epoch 6/100\n",
      "1969/1969 [==============================] - 4s 2ms/step - loss: 23.2017 - mean_absolute_error: 23.2017 - val_loss: 23.6831 - val_mean_absolute_error: 23.6831\n",
      "Epoch 7/100\n",
      "1969/1969 [==============================] - 4s 2ms/step - loss: 23.2869 - mean_absolute_error: 23.2869 - val_loss: 26.2858 - val_mean_absolute_error: 26.2858\n",
      "Epoch 8/100\n",
      "1969/1969 [==============================] - 4s 2ms/step - loss: 23.5998 - mean_absolute_error: 23.5998 - val_loss: 34.7604 - val_mean_absolute_error: 34.7604\n",
      "Epoch 9/100\n",
      "1969/1969 [==============================] - 4s 2ms/step - loss: 22.7011 - mean_absolute_error: 22.7011 - val_loss: 22.7109 - val_mean_absolute_error: 22.7109\n",
      "Epoch 10/100\n",
      "1969/1969 [==============================] - 4s 2ms/step - loss: 22.2164 - mean_absolute_error: 22.2164 - val_loss: 24.9463 - val_mean_absolute_error: 24.9463\n",
      "Epoch 11/100\n",
      "1969/1969 [==============================] - 4s 2ms/step - loss: 22.7968 - mean_absolute_error: 22.7968 - val_loss: 22.6697 - val_mean_absolute_error: 22.6697\n",
      "Epoch 12/100\n",
      "1969/1969 [==============================] - 4s 2ms/step - loss: 21.9436 - mean_absolute_error: 21.9436 - val_loss: 23.8970 - val_mean_absolute_error: 23.8970\n",
      "Epoch 13/100\n",
      "1969/1969 [==============================] - 4s 2ms/step - loss: 22.1782 - mean_absolute_error: 22.1782 - val_loss: 23.0401 - val_mean_absolute_error: 23.0401\n",
      "Epoch 14/100\n",
      "1969/1969 [==============================] - 4s 2ms/step - loss: 21.9007 - mean_absolute_error: 21.9007 - val_loss: 26.0009 - val_mean_absolute_error: 26.0009\n",
      "Epoch 15/100\n",
      "1969/1969 [==============================] - 4s 2ms/step - loss: 21.8083 - mean_absolute_error: 21.8083 - val_loss: 23.8867 - val_mean_absolute_error: 23.8867\n",
      "Epoch 16/100\n",
      "1969/1969 [==============================] - 3s 2ms/step - loss: 22.0909 - mean_absolute_error: 22.0909 - val_loss: 22.5237 - val_mean_absolute_error: 22.5237\n",
      "Epoch 17/100\n",
      "1969/1969 [==============================] - 4s 2ms/step - loss: 21.1743 - mean_absolute_error: 21.1743 - val_loss: 24.9537 - val_mean_absolute_error: 24.9537\n",
      "Epoch 18/100\n",
      "1969/1969 [==============================] - 4s 2ms/step - loss: 22.0505 - mean_absolute_error: 22.0505 - val_loss: 23.7104 - val_mean_absolute_error: 23.7104\n",
      "Epoch 19/100\n",
      "1969/1969 [==============================] - 4s 2ms/step - loss: 22.6781 - mean_absolute_error: 22.6781 - val_loss: 22.0800 - val_mean_absolute_error: 22.0800\n",
      "Epoch 20/100\n",
      "1969/1969 [==============================] - 4s 2ms/step - loss: 22.5463 - mean_absolute_error: 22.5463 - val_loss: 23.0546 - val_mean_absolute_error: 23.0546\n",
      "Epoch 21/100\n",
      "1969/1969 [==============================] - 4s 2ms/step - loss: 21.5993 - mean_absolute_error: 21.5993 - val_loss: 23.2033 - val_mean_absolute_error: 23.203322\n",
      "Epoch 22/100\n",
      "1969/1969 [==============================] - 4s 2ms/step - loss: 22.5871 - mean_absolute_error: 22.5871 - val_loss: 22.4028 - val_mean_absolute_error: 22.4028\n",
      "Epoch 23/100\n",
      "1969/1969 [==============================] - 3s 2ms/step - loss: 21.3945 - mean_absolute_error: 21.3945 - val_loss: 24.9479 - val_mean_absolute_error: 24.94792s - loss: 21.796\n",
      "Epoch 24/100\n",
      "1969/1969 [==============================] - 4s 2ms/step - loss: 21.3752 - mean_absolute_error: 21.3752 - val_loss: 24.0381 - val_mean_absolute_error: 24.0381\n",
      "Epoch 25/100\n",
      "1969/1969 [==============================] - 4s 2ms/step - loss: 21.5819 - mean_absolute_error: 21.5819 - val_loss: 22.9158 - val_mean_absolute_error: 22.9158\n",
      "Epoch 26/100\n",
      "1969/1969 [==============================] - 3s 2ms/step - loss: 21.6046 - mean_absolute_error: 21.6046 - val_loss: 23.5915 - val_mean_absolute_error: 23.5915\n",
      "Epoch 27/100\n",
      "1969/1969 [==============================] - 3s 1ms/step - loss: 21.3892 - mean_absolute_error: 21.3892 - val_loss: 22.3730 - val_mean_absolute_error: 22.3730\n",
      "Epoch 28/100\n",
      "1969/1969 [==============================] - 3s 1ms/step - loss: 20.9962 - mean_absolute_error: 20.9962 - val_loss: 24.3763 - val_mean_absolute_error: 24.3763\n",
      "Epoch 29/100\n",
      "1969/1969 [==============================] - 3s 2ms/step - loss: 21.3707 - mean_absolute_error: 21.3707 - val_loss: 22.5348 - val_mean_absolute_error: 22.5348\n",
      "Epoch 30/100\n",
      "1969/1969 [==============================] - 4s 2ms/step - loss: 20.4813 - mean_absolute_error: 20.4813 - val_loss: 21.6152 - val_mean_absolute_error: 21.6152\n",
      "Epoch 31/100\n",
      "1969/1969 [==============================] - 4s 2ms/step - loss: 20.8037 - mean_absolute_error: 20.8037 - val_loss: 22.0804 - val_mean_absolute_error: 22.0804\n",
      "Epoch 32/100\n",
      "1969/1969 [==============================] - 4s 2ms/step - loss: 20.9647 - mean_absolute_error: 20.9647 - val_loss: 21.5153 - val_mean_absolute_error: 21.5153\n",
      "Epoch 33/100\n",
      "1969/1969 [==============================] - 4s 2ms/step - loss: 20.7779 - mean_absolute_error: 20.7779 - val_loss: 21.9861 - val_mean_absolute_error: 21.9861\n",
      "Epoch 34/100\n",
      "1969/1969 [==============================] - 4s 2ms/step - loss: 20.5706 - mean_absolute_error: 20.5706 - val_loss: 21.8887 - val_mean_absolute_error: 21.8887\n",
      "Epoch 35/100\n",
      "1969/1969 [==============================] - 4s 2ms/step - loss: 20.2931 - mean_absolute_error: 20.2931 - val_loss: 21.2679 - val_mean_absolute_error: 21.2679\n",
      "Epoch 36/100\n",
      "1969/1969 [==============================] - 4s 2ms/step - loss: 20.3328 - mean_absolute_error: 20.3328 - val_loss: 22.5256 - val_mean_absolute_error: 22.5256\n",
      "Epoch 37/100\n",
      "1969/1969 [==============================] - 4s 2ms/step - loss: 20.5038 - mean_absolute_error: 20.5038 - val_loss: 27.2668 - val_mean_absolute_error: 27.2668\n",
      "Epoch 38/100\n",
      "1969/1969 [==============================] - 4s 2ms/step - loss: 20.7148 - mean_absolute_error: 20.7148 - val_loss: 23.6970 - val_mean_absolute_error: 23.6970\n",
      "Epoch 39/100\n",
      "1969/1969 [==============================] - 4s 2ms/step - loss: 20.5144 - mean_absolute_error: 20.5144 - val_loss: 21.2607 - val_mean_absolute_error: 21.2607\n",
      "Epoch 40/100\n",
      "1969/1969 [==============================] - 4s 2ms/step - loss: 19.7253 - mean_absolute_error: 19.7253 - val_loss: 22.2516 - val_mean_absolute_error: 22.2516\n",
      "Epoch 41/100\n",
      "1969/1969 [==============================] - 4s 2ms/step - loss: 19.7527 - mean_absolute_error: 19.7527 - val_loss: 23.0149 - val_mean_absolute_error: 23.0149\n",
      "Epoch 42/100\n",
      "1969/1969 [==============================] - 4s 2ms/step - loss: 19.8982 - mean_absolute_error: 19.8982 - val_loss: 23.4868 - val_mean_absolute_error: 23.4868\n",
      "Epoch 43/100\n",
      "1969/1969 [==============================] - 4s 2ms/step - loss: 20.2290 - mean_absolute_error: 20.2290 - val_loss: 21.9746 - val_mean_absolute_error: 21.9746\n",
      "Epoch 44/100\n",
      "1969/1969 [==============================] - 4s 2ms/step - loss: 19.4387 - mean_absolute_error: 19.4387 - val_loss: 21.3836 - val_mean_absolute_error: 21.3836\n",
      "Epoch 45/100\n",
      "1969/1969 [==============================] - 4s 2ms/step - loss: 19.8495 - mean_absolute_error: 19.8495 - val_loss: 23.6194 - val_mean_absolute_error: 23.6194\n",
      "Epoch 46/100\n",
      "1969/1969 [==============================] - 4s 2ms/step - loss: 19.6339 - mean_absolute_error: 19.6339 - val_loss: 21.1008 - val_mean_absolute_error: 21.1008\n",
      "Epoch 47/100\n",
      "1969/1969 [==============================] - 3s 2ms/step - loss: 19.3067 - mean_absolute_error: 19.3067 - val_loss: 22.0095 - val_mean_absolute_error: 22.0095\n",
      "Epoch 48/100\n",
      "1969/1969 [==============================] - 3s 2ms/step - loss: 19.9539 - mean_absolute_error: 19.9539 - val_loss: 21.6196 - val_mean_absolute_error: 21.6196\n",
      "Epoch 49/100\n",
      "1969/1969 [==============================] - 3s 2ms/step - loss: 19.6872 - mean_absolute_error: 19.6872 - val_loss: 21.5723 - val_mean_absolute_error: 21.5723\n",
      "Epoch 50/100\n",
      "1969/1969 [==============================] - 3s 2ms/step - loss: 19.6723 - mean_absolute_error: 19.6723 - val_loss: 20.8378 - val_mean_absolute_error: 20.8378\n",
      "Epoch 51/100\n",
      "1969/1969 [==============================] - 3s 2ms/step - loss: 19.9548 - mean_absolute_error: 19.9548 - val_loss: 22.7327 - val_mean_absolute_error: 22.7326\n",
      "Epoch 52/100\n",
      "1969/1969 [==============================] - 3s 2ms/step - loss: 19.3944 - mean_absolute_error: 19.3944 - val_loss: 22.6541 - val_mean_absolute_error: 22.6541\n",
      "Epoch 53/100\n",
      "1969/1969 [==============================] - 3s 2ms/step - loss: 19.4801 - mean_absolute_error: 19.4801 - val_loss: 20.9544 - val_mean_absolute_error: 20.9544\n",
      "Epoch 54/100\n",
      "1969/1969 [==============================] - 3s 2ms/step - loss: 19.5173 - mean_absolute_error: 19.5173 - val_loss: 24.4845 - val_mean_absolute_error: 24.4845\n",
      "Epoch 55/100\n",
      "1969/1969 [==============================] - 3s 2ms/step - loss: 19.9834 - mean_absolute_error: 19.9834 - val_loss: 21.1116 - val_mean_absolute_error: 21.1116\n",
      "Epoch 56/100\n",
      "1969/1969 [==============================] - 3s 2ms/step - loss: 19.4295 - mean_absolute_error: 19.4295 - val_loss: 21.4664 - val_mean_absolute_error: 21.4664\n",
      "Epoch 57/100\n",
      "1969/1969 [==============================] - 3s 1ms/step - loss: 19.2796 - mean_absolute_error: 19.2796 - val_loss: 21.3148 - val_mean_absolute_error: 21.3148\n",
      "Epoch 58/100\n",
      "1969/1969 [==============================] - 3s 1ms/step - loss: 19.3289 - mean_absolute_error: 19.3289 - val_loss: 23.8579 - val_mean_absolute_error: 23.8579\n",
      "Epoch 59/100\n",
      "1969/1969 [==============================] - 3s 1ms/step - loss: 19.4342 - mean_absolute_error: 19.4342 - val_loss: 22.2740 - val_mean_absolute_error: 22.2740\n",
      "Epoch 60/100\n",
      "1969/1969 [==============================] - 3s 1ms/step - loss: 19.6313 - mean_absolute_error: 19.6313 - val_loss: 23.1690 - val_mean_absolute_error: 23.1690\n",
      "Epoch 61/100\n",
      "1969/1969 [==============================] - 3s 2ms/step - loss: 19.0735 - mean_absolute_error: 19.0735 - val_loss: 21.5630 - val_mean_absolute_error: 21.5630\n",
      "Epoch 62/100\n",
      "1969/1969 [==============================] - 3s 2ms/step - loss: 19.2817 - mean_absolute_error: 19.2817 - val_loss: 22.7747 - val_mean_absolute_error: 22.7747\n",
      "Epoch 63/100\n",
      "1969/1969 [==============================] - 3s 2ms/step - loss: 19.1251 - mean_absolute_error: 19.1251 - val_loss: 23.1480 - val_mean_absolute_error: 23.1480\n",
      "Epoch 64/100\n",
      "1969/1969 [==============================] - 3s 2ms/step - loss: 19.1154 - mean_absolute_error: 19.1154 - val_loss: 21.0698 - val_mean_absolute_error: 21.0698\n",
      "Epoch 65/100\n",
      "1969/1969 [==============================] - 3s 1ms/step - loss: 19.6271 - mean_absolute_error: 19.6271 - val_loss: 21.1819 - val_mean_absolute_error: 21.1819\n",
      "Epoch 66/100\n",
      "1969/1969 [==============================] - 3s 2ms/step - loss: 19.1515 - mean_absolute_error: 19.1515 - val_loss: 21.4728 - val_mean_absolute_error: 21.4728\n",
      "Epoch 67/100\n",
      "1969/1969 [==============================] - 3s 1ms/step - loss: 18.7065 - mean_absolute_error: 18.7065 - val_loss: 23.3619 - val_mean_absolute_error: 23.3619\n",
      "Epoch 68/100\n",
      "1969/1969 [==============================] - 3s 1ms/step - loss: 19.3069 - mean_absolute_error: 19.3069 - val_loss: 21.5778 - val_mean_absolute_error: 21.5778\n",
      "Epoch 69/100\n",
      "1969/1969 [==============================] - 3s 1ms/step - loss: 19.2102 - mean_absolute_error: 19.2102 - val_loss: 21.4902 - val_mean_absolute_error: 21.4902\n",
      "Epoch 70/100\n",
      "1969/1969 [==============================] - 3s 2ms/step - loss: 19.2249 - mean_absolute_error: 19.2249 - val_loss: 21.9080 - val_mean_absolute_error: 21.9080\n",
      "Epoch 71/100\n",
      "1969/1969 [==============================] - 3s 2ms/step - loss: 18.8105 - mean_absolute_error: 18.8105 - val_loss: 21.2958 - val_mean_absolute_error: 21.2958\n",
      "Epoch 72/100\n",
      "1969/1969 [==============================] - 3s 2ms/step - loss: 18.9218 - mean_absolute_error: 18.9218 - val_loss: 21.6685 - val_mean_absolute_error: 21.6685\n",
      "Epoch 73/100\n",
      "1969/1969 [==============================] - 3s 2ms/step - loss: 19.0524 - mean_absolute_error: 19.0524 - val_loss: 23.0718 - val_mean_absolute_error: 23.0718\n",
      "Epoch 74/100\n",
      "1969/1969 [==============================] - 3s 2ms/step - loss: 19.0227 - mean_absolute_error: 19.0227 - val_loss: 22.1706 - val_mean_absolute_error: 22.1706\n",
      "Epoch 75/100\n",
      "1969/1969 [==============================] - 3s 1ms/step - loss: 18.8630 - mean_absolute_error: 18.8630 - val_loss: 22.1003 - val_mean_absolute_error: 22.1003\n",
      "Epoch 76/100\n",
      "1969/1969 [==============================] - 3s 1ms/step - loss: 18.8028 - mean_absolute_error: 18.8028 - val_loss: 21.5405 - val_mean_absolute_error: 21.5405\n",
      "Epoch 77/100\n",
      "1969/1969 [==============================] - 3s 2ms/step - loss: 19.3791 - mean_absolute_error: 19.3791 - val_loss: 22.5128 - val_mean_absolute_error: 22.5128\n",
      "Epoch 78/100\n",
      "1969/1969 [==============================] - 3s 2ms/step - loss: 18.9717 - mean_absolute_error: 18.9717 - val_loss: 21.8719 - val_mean_absolute_error: 21.8719\n",
      "Epoch 79/100\n",
      "1969/1969 [==============================] - 4s 2ms/step - loss: 19.1812 - mean_absolute_error: 19.1812 - val_loss: 24.9438 - val_mean_absolute_error: 24.9438\n",
      "Epoch 80/100\n",
      "1969/1969 [==============================] - 4s 2ms/step - loss: 19.0780 - mean_absolute_error: 19.0780 - val_loss: 20.9933 - val_mean_absolute_error: 20.9933\n",
      "Epoch 81/100\n",
      "1969/1969 [==============================] - 4s 2ms/step - loss: 18.3233 - mean_absolute_error: 18.3233 - val_loss: 23.7777 - val_mean_absolute_error: 23.7777\n",
      "Epoch 82/100\n",
      "1969/1969 [==============================] - 4s 2ms/step - loss: 19.7178 - mean_absolute_error: 19.7178 - val_loss: 20.8772 - val_mean_absolute_error: 20.8772\n",
      "Epoch 83/100\n",
      "1969/1969 [==============================] - 4s 2ms/step - loss: 18.5310 - mean_absolute_error: 18.5310 - val_loss: 21.1214 - val_mean_absolute_error: 21.1214\n",
      "Epoch 84/100\n",
      "1969/1969 [==============================] - 4s 2ms/step - loss: 18.7018 - mean_absolute_error: 18.7018 - val_loss: 22.2711 - val_mean_absolute_error: 22.2711\n",
      "Epoch 85/100\n",
      "1969/1969 [==============================] - 4s 2ms/step - loss: 18.6103 - mean_absolute_error: 18.6103 - val_loss: 21.0720 - val_mean_absolute_error: 21.0720\n",
      "Epoch 86/100\n",
      "1969/1969 [==============================] - 4s 2ms/step - loss: 18.3104 - mean_absolute_error: 18.3104 - val_loss: 20.7437 - val_mean_absolute_error: 20.7437\n",
      "Epoch 87/100\n",
      "1969/1969 [==============================] - 4s 2ms/step - loss: 18.0913 - mean_absolute_error: 18.0913 - val_loss: 21.2891 - val_mean_absolute_error: 21.2891\n",
      "Epoch 88/100\n",
      "1969/1969 [==============================] - 4s 2ms/step - loss: 17.8659 - mean_absolute_error: 17.8659 - val_loss: 21.1205 - val_mean_absolute_error: 21.1205\n",
      "Epoch 89/100\n",
      "1969/1969 [==============================] - 4s 2ms/step - loss: 18.0109 - mean_absolute_error: 18.0109 - val_loss: 21.6078 - val_mean_absolute_error: 21.6078\n",
      "Epoch 90/100\n",
      "1969/1969 [==============================] - 4s 2ms/step - loss: 18.1382 - mean_absolute_error: 18.1382 - val_loss: 20.8277 - val_mean_absolute_error: 20.8277\n",
      "Epoch 91/100\n",
      "1969/1969 [==============================] - 4s 2ms/step - loss: 18.0219 - mean_absolute_error: 18.0219 - val_loss: 22.7181 - val_mean_absolute_error: 22.7181\n",
      "Epoch 92/100\n",
      "1969/1969 [==============================] - 4s 2ms/step - loss: 18.9030 - mean_absolute_error: 18.9030 - val_loss: 24.2061 - val_mean_absolute_error: 24.2061\n",
      "Epoch 93/100\n",
      "1969/1969 [==============================] - 4s 2ms/step - loss: 18.1813 - mean_absolute_error: 18.1813 - val_loss: 21.5067 - val_mean_absolute_error: 21.5067\n",
      "Epoch 94/100\n",
      "1969/1969 [==============================] - 4s 2ms/step - loss: 18.5717 - mean_absolute_error: 18.5717 - val_loss: 21.2478 - val_mean_absolute_error: 21.2478\n"
     ]
    },
    {
     "name": "stdout",
     "output_type": "stream",
     "text": [
      "Epoch 95/100\n",
      "1969/1969 [==============================] - 3s 2ms/step - loss: 17.9240 - mean_absolute_error: 17.9240 - val_loss: 21.0867 - val_mean_absolute_error: 21.0867\n",
      "Epoch 96/100\n",
      "1969/1969 [==============================] - 3s 2ms/step - loss: 17.6190 - mean_absolute_error: 17.6190 - val_loss: 23.3607 - val_mean_absolute_error: 23.3607\n",
      "Epoch 97/100\n",
      "1969/1969 [==============================] - 3s 2ms/step - loss: 18.0608 - mean_absolute_error: 18.0608 - val_loss: 20.7442 - val_mean_absolute_error: 20.7442\n",
      "Epoch 98/100\n",
      "1969/1969 [==============================] - 4s 2ms/step - loss: 18.3228 - mean_absolute_error: 18.3228 - val_loss: 20.8369 - val_mean_absolute_error: 20.8369\n",
      "Epoch 99/100\n",
      "1969/1969 [==============================] - 4s 2ms/step - loss: 18.4432 - mean_absolute_error: 18.4431 - val_loss: 20.8003 - val_mean_absolute_error: 20.8003\n",
      "Epoch 100/100\n",
      "1969/1969 [==============================] - 3s 2ms/step - loss: 17.8658 - mean_absolute_error: 17.8658 - val_loss: 20.8998 - val_mean_absolute_error: 20.8998\n"
     ]
    }
   ],
   "source": [
    "NN_model = Sequential()\n",
    "\n",
    "# The Input Layer :\n",
    "NN_model.add(Dense(128, kernel_initializer='normal',input_dim = X_train.shape[1], activation='relu'))\n",
    "\n",
    "# The Hidden Layers :\n",
    "NN_model.add(Dense(256, kernel_initializer='normal',activation='relu'))\n",
    "NN_model.add(Dense(256, kernel_initializer='normal',activation='relu'))\n",
    "NN_model.add(Dense(256, kernel_initializer='normal',activation='relu'))\n",
    "\n",
    "# The Output Layer :\n",
    "NN_model.add(Dense(1, kernel_initializer='normal',activation='linear'))\n",
    "\n",
    "# Compile the network :\n",
    "NN_model.compile(loss='mean_absolute_error', optimizer='adam', metrics=['mean_absolute_error'])\n",
    "NN_model.summary()\n",
    "\n",
    "# Fitting the ANN to the Training set\n",
    "model_history=NN_model.fit(X_train, y_train,validation_split=0.33, batch_size = 10, nb_epoch = 100)"
   ]
  },
  {
   "cell_type": "code",
   "execution_count": null,
   "metadata": {},
   "outputs": [],
   "source": [
    "import matplotlib.pyplot as plt\n",
    "plt.title('model loss')\n",
    "plt.ylabel('loss')\n",
    "plt.xlabel('epoch')\n",
    "plt.plot(history.history['loss'],'b')\n",
    "plt.plot(history.history['val_loss'],'r')\n",
    "plt.legend(['train', 'test'], loc='upper left')\n",
    "plt.show()"
   ]
  },
  {
   "cell_type": "markdown",
   "metadata": {},
   "source": [
    "#### Model Evaluation"
   ]
  },
  {
   "cell_type": "code",
   "execution_count": 26,
   "metadata": {},
   "outputs": [],
   "source": [
    "prediction=NN_model.predict(X_test)"
   ]
  },
  {
   "cell_type": "code",
   "execution_count": 27,
   "metadata": {},
   "outputs": [
    {
     "data": {
      "text/plain": [
       "578      20.71\n",
       "904      82.52\n",
       "628      30.08\n",
       "5373     20.91\n",
       "3302    231.75\n",
       "         ...  \n",
       "5246     88.75\n",
       "764      99.29\n",
       "5466    240.84\n",
       "3223    222.00\n",
       "3410    267.12\n",
       "Name: PM2.5, Length: 735, dtype: float64"
      ]
     },
     "execution_count": 27,
     "metadata": {},
     "output_type": "execute_result"
    }
   ],
   "source": [
    "y_test"
   ]
  },
  {
   "cell_type": "code",
   "execution_count": 28,
   "metadata": {},
   "outputs": [
    {
     "data": {
      "text/plain": [
       "<matplotlib.axes._subplots.AxesSubplot at 0x27515b89548>"
      ]
     },
     "execution_count": 28,
     "metadata": {},
     "output_type": "execute_result"
    },
    {
     "data": {
      "image/png": "[encoded data removed]",
      "text/plain": [
       "<Figure size 432x288 with 1 Axes>"
      ]
     },
     "metadata": {
      "needs_background": "light"
     },
     "output_type": "display_data"
    }
   ],
   "source": [
    "sns.distplot(y_test.values.reshape(-1,1)-prediction)"
   ]
  },
  {
   "cell_type": "code",
   "execution_count": 29,
   "metadata": {},
   "outputs": [
    {
     "data": {
      "text/plain": [
       "<matplotlib.collections.PathCollection at 0x27516c7a9c8>"
      ]
     },
     "execution_count": 29,
     "metadata": {},
     "output_type": "execute_result"
    },
    {
     "data": {
      "image/png": "[encoded data removed]",
      "text/plain": [
       "<Figure size 432x288 with 1 Axes>"
      ]
     },
     "metadata": {
      "needs_background": "light"
     },
     "output_type": "display_data"
    }
   ],
   "source": [
    "plt.scatter(y_test,prediction)"
   ]
  },
  {
   "cell_type": "code",
   "execution_count": 30,
   "metadata": {
    "scrolled": true
   },
   "outputs": [
    {
     "name": "stdout",
     "output_type": "stream",
     "text": [
      "ANN\n",
      "MAE: 19.35407611602991\n",
      "MSE: 1057.969275176153\n",
      "RMSE: 32.526439632645825\n"
     ]
    }
   ],
   "source": [
    "from sklearn import metrics\n",
    "print('ANN')\n",
    "print('MAE:', metrics.mean_absolute_error(y_test, prediction))\n",
    "print('MSE:', metrics.mean_squared_error(y_test, prediction))\n",
    "print('RMSE:', np.sqrt(metrics.mean_squared_error(y_test, prediction)))"
   ]
  },
  {
   "cell_type": "code",
   "execution_count": 31,
   "metadata": {},
   "outputs": [],
   "source": [
    "import pickle"
   ]
  },
  {
   "cell_type": "code",
   "execution_count": 32,
   "metadata": {},
   "outputs": [],
   "source": [
    "# open a file, where you ant to store the data\n",
    "file = open('ANN_model.pkl', 'wb')\n",
    "\n",
    "# dump information to that file\n",
    "pickle.dump(NN_model, file)"
   ]
  },
  {
   "cell_type": "code",
   "execution_count": null,
   "metadata": {},
   "outputs": [],
   "source": []
  }
 ],
 "metadata": {
  "kernelspec": {
   "display_name": "Python 3",
   "language": "python",
   "name": "python3"
  },
  "language_info": {
   "codemirror_mode": {
    "name": "ipython",
    "version": 3
   },
   "file_extension": ".py",
   "mimetype": "text/x-python",
   "name": "python",
   "nbconvert_exporter": "python",
   "pygments_lexer": "ipython3",
   "version": "3.7.6"
  }
 },
 "nbformat": 4,
 "nbformat_minor": 4
}
